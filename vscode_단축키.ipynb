{
 "cells": [
  {
   "cell_type": "markdown",
   "metadata": {},
   "source": [
    "\n",
    "/* 기타 유용한 단축키 */\n",
    "\n",
    " \n",
    "\n",
    "커서가 위치한 같은 단어 전체 선택:  Ctrl +F2\n",
    "커서가 위치한 같은 단어 반복 선택: Ctrl + D\n",
    "\n",
    " \n",
    "\n",
    "줄 복사: 커서 위치에서 (선택된 것이 없는)  Ctrl + C\n",
    "\n",
    "\n",
    "줄 잘라내기: \n",
    "커서 위치에서 (선택된 것이 없는)  Ctrl + X\n",
    "\n",
    " \n",
    "\n",
    "줄 복제:  Shift + Alt + Down (아래에),  Shift +Alt + Up (위에)\n",
    "\n",
    " \n",
    "줄 이동: Alt + Down(아래로), Alt+Up(위로)\n",
    " \n",
    "줄 삭제: Ctrl + Shift + K\n",
    " \n",
    "커서 위에 빈줄 생성: Ctrl + Enter\n",
    " \n",
    "커서 아래에 빈줄 생성: Ctrl + Shift + Enter\n",
    " \n",
    "커서가 위치한 라인 선택: Ctrl + I\n",
    " \n",
    "라인 들여쓰기: Ctrl +]\n",
    " \n",
    "라인 내여쓰기: Ctrl +[\n",
    " \n",
    "주석:  Ctrl + /\n",
    " \n",
    "선택 영역 주석: Shift + Alt + A \n",
    " \n",
    "선택영역 코드 정렬: Ctrl + K + F\n",
    " \n",
    "\n",
    "북마크 기능은 먼저 익스텐션 Bookmarks 설치해야한다.\n",
    "\n",
    "북마크 지정/해제  Ctrl + Alt + k\n",
    "\n",
    "이전 북마크 이동  Ctrl + Alt + j\n",
    "\n",
    "다음 북마크 이동  Ctrl + Alt + l\n",
    "\n",
    " 출처: https://jungsangun.tistory.com/7691352"
   ]
  }
 ],
 "metadata": {
  "language_info": {
   "name": "python"
  }
 },
 "nbformat": 4,
 "nbformat_minor": 2
}
